{
 "cells": [
  {
   "cell_type": "code",
   "execution_count": 7,
   "id": "8cdaf2e2",
   "metadata": {},
   "outputs": [
    {
     "name": "stdout",
     "output_type": "stream",
     "text": [
      "THE RASH\n"
     ]
    }
   ],
   "source": [
    "print(\"THE RASH\")"
   ]
  },
  {
   "cell_type": "code",
   "execution_count": 8,
   "id": "c6d31cb7",
   "metadata": {},
   "outputs": [
    {
     "name": "stdout",
     "output_type": "stream",
     "text": [
      "the rash\n"
     ]
    }
   ],
   "source": [
    "print(\"the rash\")"
   ]
  },
  {
   "cell_type": "code",
   "execution_count": 9,
   "id": "69d7aef4",
   "metadata": {},
   "outputs": [],
   "source": [
    "# print('now i need money')\n",
    "# input()"
   ]
  },
  {
   "cell_type": "code",
   "execution_count": 10,
   "id": "1a507180",
   "metadata": {},
   "outputs": [
    {
     "name": "stdout",
     "output_type": "stream",
     "text": [
      "money\n"
     ]
    }
   ],
   "source": [
    "input('give me some money: ')\n",
    "print(\"money\")"
   ]
  },
  {
   "cell_type": "code",
   "execution_count": 11,
   "id": "bb2e2cf7",
   "metadata": {},
   "outputs": [
    {
     "name": "stdout",
     "output_type": "stream",
     "text": [
      "49\n",
      "39\n",
      "220\n",
      "8.8\n",
      "3.3333333333333335\n",
      "1\n",
      "3\n"
     ]
    }
   ],
   "source": [
    "num1 = 44\n",
    "num2 = 5\n",
    " \n",
    "print(num1 + num2)\n",
    "print(num1 - num2)\n",
    "print(num1 * num2)\n",
    "print(num1 / num2)\n",
    "\n",
    "print(10/3)\n",
    "print(10%3)\n",
    "print(10//3)"
   ]
  },
  {
   "cell_type": "code",
   "execution_count": 12,
   "id": "9042a1b0",
   "metadata": {},
   "outputs": [],
   "source": [
    "def factorial(n):\n",
    "    if n == 0 or n == 1:\n",
    "        return 1\n",
    "    else:\n",
    "        return n * factorial(n - 1)"
   ]
  },
  {
   "cell_type": "markdown",
   "id": "99f5f7c0",
   "metadata": {},
   "source": [
    "function\n"
   ]
  },
  {
   "cell_type": "code",
   "execution_count": 13,
   "id": "f26158d9",
   "metadata": {},
   "outputs": [
    {
     "name": "stdout",
     "output_type": "stream",
     "text": [
      "16\n",
      "176\n",
      "133\n"
     ]
    }
   ],
   "source": [
    "def double_it(num):\n",
    "    result = num * 2\n",
    "    print(result)\n",
    "double_it(8)\n",
    "double_it(88)\n",
    "\n",
    "def sum(num1, num2):\n",
    "    return num1 + num2\n",
    "    return result\n",
    "total = sum(44,89)\n",
    "print(total)\n"
   ]
  },
  {
   "cell_type": "code",
   "execution_count": 14,
   "id": "69620cbd",
   "metadata": {},
   "outputs": [
    {
     "name": "stdout",
     "output_type": "stream",
     "text": [
      "133\n"
     ]
    }
   ],
   "source": [
    "def sum(num1, num2):\n",
    "    result = num1+ num2\n",
    "    return result\n",
    "total = sum(44,89)\n",
    "print(total)"
   ]
  },
  {
   "cell_type": "code",
   "execution_count": 15,
   "id": "96ec0d58",
   "metadata": {},
   "outputs": [
    {
     "ename": "SyntaxError",
     "evalue": "expected '(' (316899758.py, line 8)",
     "output_type": "error",
     "traceback": [
      "  \u001b[36mCell\u001b[39m\u001b[36m \u001b[39m\u001b[32mIn[15]\u001b[39m\u001b[32m, line 8\u001b[39m\n\u001b[31m    \u001b[39m\u001b[31mdef famous_name = (first,last,title,addition):\u001b[39m\n                    ^\n\u001b[31mSyntaxError\u001b[39m\u001b[31m:\u001b[39m expected '('\n"
     ]
    }
   ],
   "source": [
    "def full_name(first, last):\n",
    "    name  = f'{first} {last}'\n",
    "    return name\n",
    "    \n",
    "name = full_name('rashid', 'khan')\n",
    "print(name)\n",
    " \n",
    "def famous_name = (first,last,title,addition):\n",
    "    name = f'{title} {first} {last} '\n",
    "    return name\n",
    "    \n",
    "    "
   ]
  },
  {
   "cell_type": "code",
   "execution_count": null,
   "id": "e715300a",
   "metadata": {},
   "outputs": [
    {
     "name": "stdout",
     "output_type": "stream",
     "text": [
      "balance inside the function: 5000\n"
     ]
    }
   ],
   "source": [
    "balance = 5000\n",
    "def buy_thing(item, price):\n",
    "    balance = balance - price\n",
    "    print(\"balance inside the function:\", balance)\n",
    "buy_thing('laptop', 2000)\n",
    "    "
   ]
  },
  {
   "cell_type": "markdown",
   "id": "2e0efaf5",
   "metadata": {},
   "source": [
    "built_in_function\n"
   ]
  },
  {
   "cell_type": "code",
   "execution_count": null,
   "id": "807e3875",
   "metadata": {},
   "outputs": [
    {
     "name": "stdout",
     "output_type": "stream",
     "text": [
      "[90]\n"
     ]
    }
   ],
   "source": [
    "highest = max([45,87,65,90,32,34])\n",
    "print([highest])"
   ]
  },
  {
   "cell_type": "code",
   "execution_count": null,
   "id": "f67ace1c",
   "metadata": {},
   "outputs": [
    {
     "ename": "TypeError",
     "evalue": "sum() missing 1 required positional argument: 'num2'",
     "output_type": "error",
     "traceback": [
      "\u001b[31m---------------------------------------------------------------------------\u001b[39m",
      "\u001b[31mTypeError\u001b[39m                                 Traceback (most recent call last)",
      "\u001b[36mCell\u001b[39m\u001b[36m \u001b[39m\u001b[32mIn[18]\u001b[39m\u001b[32m, line 3\u001b[39m\n\u001b[32m      1\u001b[39m highest = \u001b[38;5;28mmax\u001b[39m(\u001b[32m45\u001b[39m,\u001b[32m87\u001b[39m,\u001b[32m65\u001b[39m,\u001b[32m90\u001b[39m,\u001b[32m32\u001b[39m,\u001b[32m34\u001b[39m)\n\u001b[32m      2\u001b[39m smallest = \u001b[38;5;28mmin\u001b[39m(\u001b[32m45\u001b[39m,\u001b[32m87\u001b[39m,\u001b[32m65\u001b[39m,\u001b[32m90\u001b[39m,\u001b[32m32\u001b[39m,\u001b[32m34\u001b[39m)\n\u001b[32m----> \u001b[39m\u001b[32m3\u001b[39m total = \u001b[38;5;28;43msum\u001b[39;49m\u001b[43m(\u001b[49m\u001b[43m[\u001b[49m\u001b[32;43m45\u001b[39;49m\u001b[43m,\u001b[49m\u001b[32;43m87\u001b[39;49m\u001b[43m,\u001b[49m\u001b[32;43m65\u001b[39;49m\u001b[43m,\u001b[49m\u001b[32;43m90\u001b[39;49m\u001b[43m,\u001b[49m\u001b[32;43m32\u001b[39;49m\u001b[43m,\u001b[49m\u001b[32;43m34\u001b[39;49m\u001b[43m]\u001b[49m\u001b[43m)\u001b[49m\n\u001b[32m      4\u001b[39m \u001b[38;5;28mprint\u001b[39m(highest, smallest, \u001b[38;5;28msum\u001b[39m)\n",
      "\u001b[31mTypeError\u001b[39m: sum() missing 1 required positional argument: 'num2'"
     ]
    }
   ],
   "source": [
    "highest = max(45,87,65,90,32,34)\n",
    "smallest = min(45,87,65,90,32,34)\n",
    "total = sum([45,87,65,90,32,34])\n",
    "print(highest, smallest, total)\n"
   ]
  },
  {
   "cell_type": "markdown",
   "id": "fca3f04a",
   "metadata": {},
   "source": [
    "list\n"
   ]
  },
  {
   "cell_type": "code",
   "execution_count": null,
   "id": "d81f4a3a",
   "metadata": {},
   "outputs": [
    {
     "data": {
      "text/plain": [
       "8"
      ]
     },
     "execution_count": 19,
     "metadata": {},
     "output_type": "execute_result"
    }
   ],
   "source": [
    "num = [10,20,34,56,78, 90, 100, 150]\n",
    "len(num)"
   ]
  },
  {
   "cell_type": "code",
   "execution_count": null,
   "id": "8fc9afcd",
   "metadata": {},
   "outputs": [
    {
     "name": "stdout",
     "output_type": "stream",
     "text": [
      "90\n"
     ]
    }
   ],
   "source": [
    "print(num[5])"
   ]
  },
  {
   "cell_type": "code",
   "execution_count": null,
   "id": "a8ee134d",
   "metadata": {},
   "outputs": [
    {
     "name": "stdout",
     "output_type": "stream",
     "text": [
      "[34, 56, 78, 90]\n"
     ]
    }
   ],
   "source": [
    "print(num[2:6])"
   ]
  },
  {
   "cell_type": "code",
   "execution_count": null,
   "id": "b0198c6a",
   "metadata": {},
   "outputs": [
    {
     "name": "stdout",
     "output_type": "stream",
     "text": [
      "[20, 34, 56, 78, 90, 100, 150]\n"
     ]
    }
   ],
   "source": [
    "print(num[1:8:1])"
   ]
  },
  {
   "cell_type": "code",
   "execution_count": null,
   "id": "1d3ff90d",
   "metadata": {},
   "outputs": [
    {
     "name": "stdout",
     "output_type": "stream",
     "text": [
      "[10, 20, 34, 56, 78, 90, 100, 150]\n"
     ]
    }
   ],
   "source": [
    "print(num[:])"
   ]
  },
  {
   "cell_type": "code",
   "execution_count": null,
   "id": "2b04c9bd",
   "metadata": {},
   "outputs": [
    {
     "name": "stdout",
     "output_type": "stream",
     "text": [
      "[[150, 100, 90, 78, 56, 34, 20, 10]]\n"
     ]
    }
   ],
   "source": [
    "print([num[::-1]])"
   ]
  },
  {
   "cell_type": "code",
   "execution_count": null,
   "id": "df5a7664",
   "metadata": {},
   "outputs": [
    {
     "name": "stdout",
     "output_type": "stream",
     "text": [
      "[10, 20, 30, 40, 50, 60]\n",
      "[10, 20, 40, 50, 60]\n"
     ]
    }
   ],
   "source": [
    "numbers = [10,20,30,40,50]\n",
    "numbers.append(60)\n",
    "print(numbers)\n",
    "# numbers.insert(2, 25)\n",
    "# print(numbers)\n",
    "\n",
    "numbers.remove(30)\n",
    "print(numbers)"
   ]
  },
  {
   "cell_type": "code",
   "execution_count": null,
   "id": "4c5274b7",
   "metadata": {},
   "outputs": [
    {
     "name": "stdout",
     "output_type": "stream",
     "text": [
      "1\n"
     ]
    }
   ],
   "source": [
    "index = numbers.index(20)\n",
    "print(index)"
   ]
  },
  {
   "cell_type": "code",
   "execution_count": null,
   "id": "051bbef6",
   "metadata": {},
   "outputs": [
    {
     "name": "stdout",
     "output_type": "stream",
     "text": [
      "[10, 20, 40, 50, 60]\n"
     ]
    }
   ],
   "source": [
    "numbers.sort\n",
    "print(numbers)"
   ]
  },
  {
   "cell_type": "code",
   "execution_count": null,
   "id": "3a42702c",
   "metadata": {},
   "outputs": [
    {
     "name": "stdout",
     "output_type": "stream",
     "text": [
      "[5, 45]\n"
     ]
    },
    {
     "ename": "TypeError",
     "evalue": "'int' object is not iterable",
     "output_type": "error",
     "traceback": [
      "\u001b[31m---------------------------------------------------------------------------\u001b[39m",
      "\u001b[31mTypeError\u001b[39m                                 Traceback (most recent call last)",
      "\u001b[36mCell\u001b[39m\u001b[36m \u001b[39m\u001b[32mIn[53]\u001b[39m\u001b[32m, line 7\u001b[39m\n\u001b[32m      5\u001b[39m         odd.append(numbers)\n\u001b[32m      6\u001b[39m \u001b[38;5;28mprint\u001b[39m(odd)\n\u001b[32m----> \u001b[39m\u001b[32m7\u001b[39m odd_numbers = \u001b[43m[\u001b[49m\u001b[43mnumbers\u001b[49m\u001b[43m \u001b[49m\u001b[38;5;28;43;01mfor\u001b[39;49;00m\u001b[43m \u001b[49m\u001b[43mnumbers\u001b[49m\u001b[43m \u001b[49m\u001b[38;5;129;43;01min\u001b[39;49;00m\u001b[43m \u001b[49m\u001b[43mnumbers\u001b[49m\u001b[43m]\u001b[49m\n\u001b[32m      8\u001b[39m \u001b[38;5;28mprint\u001b[39m(odd_numbers)\n",
      "\u001b[31mTypeError\u001b[39m: 'int' object is not iterable"
     ]
    }
   ],
   "source": [
    "numbers = [56,23,89,12,5,78, 90, 45, 34]\n",
    "odd = []\n",
    "for numbers in numbers:\n",
    "    if numbers %2 == 1 and numbers % 5 == 0:\n",
    "        odd.append(numbers)\n",
    "print(odd)\n",
    "odd_numbers = [numbers for numbers in numbers]\n",
    "print(odd_numbers)"
   ]
  },
  {
   "cell_type": "code",
   "execution_count": null,
   "id": "4d1409da",
   "metadata": {},
   "outputs": [
    {
     "name": "stdout",
     "output_type": "stream",
     "text": [
      "[4, 2, 3, 4, 5, 8, 7]\n"
     ]
    }
   ],
   "source": [
    "numbers =[7,8,5,4,3,2,4]\n",
    "print(numbers[::-1])"
   ]
  },
  {
   "cell_type": "code",
   "execution_count": null,
   "id": "fd043c09",
   "metadata": {},
   "outputs": [
    {
     "name": "stdout",
     "output_type": "stream",
     "text": [
      "rasidul's khan\n",
      "r\n",
      "a\n",
      "s\n",
      "i\n",
      "d\n",
      "u\n",
      "l\n",
      " \n",
      "k\n",
      "h\n",
      "a\n",
      "n\n",
      "RASIDUL KHAN\n"
     ]
    }
   ],
   "source": [
    "name = 'rasidul\\'s khan'\n",
    "name2= \"rasidul khan\"\n",
    "\n",
    "name3 = \"\"\" \n",
    "This is a multi line string.\n",
    "I am learning python programming.\"\"\"\n",
    "\n",
    "print(name)\n",
    "\n",
    "for char in name2:\n",
    "    print(char)\n",
    "    \n",
    "#print(name2[5])\n",
    "# print(name2[2:7])\n",
    "# print(name2[-2:])\n",
    "# print(name2[::-1])\n",
    "\n",
    "if 'rashid' in name2:\n",
    "    print(\"found\")\n",
    "print(name2.upper())\n"
   ]
  },
  {
   "cell_type": "code",
   "execution_count": null,
   "id": "ef521401",
   "metadata": {},
   "outputs": [
    {
     "name": "stdout",
     "output_type": "stream",
     "text": [
      "(4, 5)\n"
     ]
    }
   ],
   "source": [
    "def multiple():\n",
    "    return 4,5\n",
    "print(multiple())\n"
   ]
  },
  {
   "cell_type": "code",
   "execution_count": null,
   "id": "0e10ffb3",
   "metadata": {},
   "outputs": [
    {
     "name": "stdout",
     "output_type": "stream",
     "text": [
      "[12, 33, 78, 90, 45, 67, 89]\n",
      "{33, 67, 12, 45, 78, 89, 90}\n"
     ]
    }
   ],
   "source": [
    "numbers = [12,33,78,90,45, 67,89]\n",
    "print(numbers)\n",
    "numbers_set = set(numbers)\n",
    "print(numbers_set)"
   ]
  },
  {
   "cell_type": "code",
   "execution_count": null,
   "id": "bc518371",
   "metadata": {},
   "outputs": [
    {
     "name": "stdout",
     "output_type": "stream",
     "text": [
      "33\n",
      "67\n",
      "12\n",
      "45\n",
      "78\n",
      "89\n",
      "90\n"
     ]
    }
   ],
   "source": [
    "for item in numbers_set:\n",
    "    print(item)"
   ]
  },
  {
   "cell_type": "code",
   "execution_count": null,
   "id": "6c17429a",
   "metadata": {},
   "outputs": [
    {
     "name": "stdout",
     "output_type": "stream",
     "text": [
      "46 found\n"
     ]
    }
   ],
   "source": [
    "if 9 in numbers_set:\n",
    "    print(\"found\")\n",
    "elif 45 in numbers_set:\n",
    "    print(\"46 found\")\n",
    "else:\n",
    "    print(\"not found\")"
   ]
  },
  {
   "cell_type": "code",
   "execution_count": null,
   "id": "04c0a574",
   "metadata": {},
   "outputs": [
    {
     "name": "stdout",
     "output_type": "stream",
     "text": [
      "{'name': 'rashid', 'country': 'bangladesh', 'age': 25}\n"
     ]
    }
   ],
   "source": [
    "numbers = [12,33,78,90,45, 67,89]\n",
    "person = ['rashid', 'khan', 25, 'bangladesh']\n",
    "\n",
    "person = {'name': 'rashid', 'country': 'bangladesh', 'age': 25 }\n",
    "print(person)\n",
    "\n"
   ]
  },
  {
   "cell_type": "code",
   "execution_count": null,
   "id": "05c956de",
   "metadata": {},
   "outputs": [
    {
     "name": "stdout",
     "output_type": "stream",
     "text": [
      "rashid\n"
     ]
    }
   ],
   "source": [
    "name = person['name']\n",
    "print(name)"
   ]
  },
  {
   "cell_type": "code",
   "execution_count": null,
   "id": "c7975ff2",
   "metadata": {},
   "outputs": [
    {
     "name": "stdout",
     "output_type": "stream",
     "text": [
      "dict_keys(['name', 'country', 'age'])\n"
     ]
    }
   ],
   "source": [
    "print(person.keys())"
   ]
  },
  {
   "cell_type": "code",
   "execution_count": null,
   "id": "b80aa0fe",
   "metadata": {},
   "outputs": [
    {
     "name": "stdout",
     "output_type": "stream",
     "text": [
      "4\n"
     ]
    }
   ],
   "source": [
    "from math import*\n",
    "# result = ceil(4.2)\n",
    "result = floor(4.7) \n",
    "\n",
    "print(result)  "
   ]
  },
  {
   "cell_type": "code",
   "execution_count": null,
   "id": "98feb4fb",
   "metadata": {},
   "outputs": [
    {
     "name": "stdout",
     "output_type": "stream",
     "text": [
      "0.5656248634140136\n",
      "66\n",
      "banana\n"
     ]
    }
   ],
   "source": [
    "from random import*\n",
    "print(random())\n",
    "print(randint(1,100))\n",
    "print(choice(['apple', 'banana', 'mango']))\n"
   ]
  },
  {
   "cell_type": "markdown",
   "id": "636d4fcf",
   "metadata": {},
   "source": [
    "exception\n",
    "\n"
   ]
  },
  {
   "cell_type": "code",
   "execution_count": null,
   "id": "55d3a66f",
   "metadata": {},
   "outputs": [
    {
     "name": "stdout",
     "output_type": "stream",
     "text": [
      "finally block executed \n",
      "done\n"
     ]
    }
   ],
   "source": [
    "try:\n",
    "    result = 45/5\n",
    "except :\n",
    "    print(\"an error occurred\")\n",
    "    \n",
    "finally:\n",
    "    print('finally block executed ')\n",
    "\n",
    "print('done')"
   ]
  },
  {
   "cell_type": "markdown",
   "id": "5531a8b8",
   "metadata": {},
   "source": [
    "lambda function\n"
   ]
  },
  {
   "cell_type": "code",
   "execution_count": null,
   "id": "d9a58b0c",
   "metadata": {},
   "outputs": [
    {
     "name": "stdout",
     "output_type": "stream",
     "text": [
      "10\n"
     ]
    }
   ],
   "source": [
    "# def double(x):\n",
    "#     return x * 2   \n",
    "double = lambda num : num * 2\n",
    "\n",
    "result = double(5)\n",
    "print(result)"
   ]
  },
  {
   "cell_type": "code",
   "execution_count": 18,
   "id": "b0527c94",
   "metadata": {},
   "outputs": [
    {
     "name": "stdout",
     "output_type": "stream",
     "text": [
      "YES\n"
     ]
    }
   ],
   "source": [
    "# Input\n",
    "n = int(input())\n",
    "A = list(map(int, input().split()))\n",
    "\n",
    "# Check if palindrome\n",
    "if A == A[::-1]:\n",
    "    print(\"YES\")\n",
    "else:\n",
    "    print(\"NO\")\n"
   ]
  }
 ],
 "metadata": {
  "kernelspec": {
   "display_name": "rasidul",
   "language": "python",
   "name": "python3"
  },
  "language_info": {
   "codemirror_mode": {
    "name": "ipython",
    "version": 3
   },
   "file_extension": ".py",
   "mimetype": "text/x-python",
   "name": "python",
   "nbconvert_exporter": "python",
   "pygments_lexer": "ipython3",
   "version": "3.13.6"
  }
 },
 "nbformat": 4,
 "nbformat_minor": 5
}
